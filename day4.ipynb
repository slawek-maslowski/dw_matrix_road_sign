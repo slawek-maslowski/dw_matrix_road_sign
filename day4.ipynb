{
  "nbformat": 4,
  "nbformat_minor": 0,
  "metadata": {
    "colab": {
      "name": "day4.ipynb",
      "provenance": [],
      "collapsed_sections": [],
      "mount_file_id": "1136w1b5bvzfqluXgZMrEFscAuVhmvII6",
      "authorship_tag": "ABX9TyPSWK7VgfgKXETyppq9lDWu",
      "include_colab_link": true
    },
    "kernelspec": {
      "name": "python3",
      "display_name": "Python 3"
    },
    "accelerator": "GPU"
  },
  "cells": [
    {
      "cell_type": "markdown",
      "metadata": {
        "id": "view-in-github",
        "colab_type": "text"
      },
      "source": [
        "<a href=\"https://colab.research.google.com/github/slawek-programmer/dw_matrix_road_sign/blob/master/day4.ipynb\" target=\"_parent\"><img src=\"https://colab.research.google.com/assets/colab-badge.svg\" alt=\"Open In Colab\"/></a>"
      ]
    },
    {
      "cell_type": "code",
      "metadata": {
        "id": "Se9cnMC0sFmT",
        "colab_type": "code",
        "outputId": "7fb9f55e-040c-4570-89b6-22ab018dc5b6",
        "colab": {
          "base_uri": "https://localhost:8080/",
          "height": 34
        }
      },
      "source": [
        "cd '/content/drive/My Drive/Colab Notebooks/dw_matrix/matrix_three/dw_matrix_road_sign'"
      ],
      "execution_count": 7,
      "outputs": [
        {
          "output_type": "stream",
          "text": [
            "/content/drive/My Drive/Colab Notebooks/dw_matrix/matrix_three/dw_matrix_road_sign\n"
          ],
          "name": "stdout"
        }
      ]
    },
    {
      "cell_type": "code",
      "metadata": {
        "id": "s3mAsJoJsTZK",
        "colab_type": "code",
        "outputId": "1263808e-6a6d-4bd9-f061-eaedbc4531a1",
        "colab": {
          "base_uri": "https://localhost:8080/",
          "height": 51
        }
      },
      "source": [
        "import pandas as pd\n",
        "import numpy as np\n",
        "\n",
        "import tensorflow as tf\n",
        "from tensorflow.keras.models import Sequential\n",
        "from tensorflow.keras.layers import Conv2D, MaxPool2D, Dense, Flatten, Dropout\n",
        "from tensorflow.keras.utils import to_categorical\n",
        "\n",
        "import os\n",
        "import datetime\n",
        "\n",
        "%load_ext tensorboard\n",
        "\n",
        "import matplotlib.pyplot as plt\n",
        "from skimage import color,exposure\n",
        "\n",
        "from sklearn.metrics import accuracy_score"
      ],
      "execution_count": 8,
      "outputs": [
        {
          "output_type": "stream",
          "text": [
            "The tensorboard extension is already loaded. To reload it, use:\n",
            "  %reload_ext tensorboard\n"
          ],
          "name": "stdout"
        }
      ]
    },
    {
      "cell_type": "code",
      "metadata": {
        "id": "RtVO-jxdtVVX",
        "colab_type": "code",
        "colab": {}
      },
      "source": [
        "train = pd.read_pickle('data/train.p')\n",
        "test = pd.read_pickle('data/test.p')\n",
        "\n",
        "X_train, y_train = train['features'], train['labels']\n",
        "X_test, y_test = test['features'], test['labels']"
      ],
      "execution_count": 0,
      "outputs": []
    },
    {
      "cell_type": "code",
      "metadata": {
        "id": "HK3_rSQDuSNC",
        "colab_type": "code",
        "outputId": "48564656-87c0-417c-87a7-385478677239",
        "colab": {
          "base_uri": "https://localhost:8080/",
          "height": 34
        }
      },
      "source": [
        "y_train"
      ],
      "execution_count": 10,
      "outputs": [
        {
          "output_type": "execute_result",
          "data": {
            "text/plain": [
              "array([41, 41, 41, ..., 25, 25, 25], dtype=uint8)"
            ]
          },
          "metadata": {
            "tags": []
          },
          "execution_count": 10
        }
      ]
    },
    {
      "cell_type": "code",
      "metadata": {
        "id": "Ja1dWnDJuTzk",
        "colab_type": "code",
        "colab": {}
      },
      "source": [
        "if y_train.ndim==1: y_train = to_categorical(y_train)\n",
        "if y_test.ndim==1: y_test = to_categorical(y_test)"
      ],
      "execution_count": 0,
      "outputs": []
    },
    {
      "cell_type": "code",
      "metadata": {
        "id": "aOqjs2MtwHfW",
        "colab_type": "code",
        "colab": {}
      },
      "source": [
        "input_shape = X_train.shape[1:]\n",
        "num_classes = y_train.shape[1]"
      ],
      "execution_count": 0,
      "outputs": []
    },
    {
      "cell_type": "code",
      "metadata": {
        "id": "3Nlp1jNjvEEy",
        "colab_type": "code",
        "outputId": "3be1c16b-a187-4c80-e856-94bb2677ba57",
        "colab": {
          "base_uri": "https://localhost:8080/",
          "height": 34
        }
      },
      "source": [
        "y_train.shape"
      ],
      "execution_count": 13,
      "outputs": [
        {
          "output_type": "execute_result",
          "data": {
            "text/plain": [
              "(34799, 43)"
            ]
          },
          "metadata": {
            "tags": []
          },
          "execution_count": 13
        }
      ]
    },
    {
      "cell_type": "code",
      "metadata": {
        "id": "GX1n1Ku5vIeh",
        "colab_type": "code",
        "colab": {}
      },
      "source": [
        "model = Sequential([\n",
        "                    Conv2D(filters=64, kernel_size=(3,3), activation='relu', input_shape=input_shape),\n",
        "                    Flatten(),\n",
        "                    Dense(num_classes, activation='softmax'),\n",
        "])"
      ],
      "execution_count": 0,
      "outputs": []
    },
    {
      "cell_type": "code",
      "metadata": {
        "id": "8OBxhDGow0iu",
        "colab_type": "code",
        "colab": {}
      },
      "source": [
        "model.compile(loss='categorical_crossentropy', optimizer='Adam', metrics=['accuracy'])"
      ],
      "execution_count": 0,
      "outputs": []
    },
    {
      "cell_type": "code",
      "metadata": {
        "id": "qPcH1-ubxjDp",
        "colab_type": "code",
        "outputId": "555f4885-29af-4639-be67-5c48dee4aad1",
        "colab": {
          "base_uri": "https://localhost:8080/",
          "height": 51
        }
      },
      "source": [
        "model.fit(X_train, y_train)"
      ],
      "execution_count": 16,
      "outputs": [
        {
          "output_type": "stream",
          "text": [
            "1088/1088 [==============================] - 5s 5ms/step - loss: 13.3474 - accuracy: 0.7829\n"
          ],
          "name": "stdout"
        },
        {
          "output_type": "execute_result",
          "data": {
            "text/plain": [
              "<tensorflow.python.keras.callbacks.History at 0x7f9540649160>"
            ]
          },
          "metadata": {
            "tags": []
          },
          "execution_count": 16
        }
      ]
    },
    {
      "cell_type": "code",
      "metadata": {
        "id": "tQOkiVwkxqpj",
        "colab_type": "code",
        "colab": {}
      },
      "source": [
        "def get_cnn_v1(input_shape,num_classes):\n",
        "  return Sequential([\n",
        "                     Conv2D(filters=64, kernel_size=(3,3), activation='relu', input_shape=input_shape),\n",
        "                     Flatten(),\n",
        "                     Dense(num_classes, activation='softmax'),\n",
        "  ])\n",
        "\n",
        "def train_model(model,X_train,y_train,params_fit={}):\n",
        "  model.compile(loss='categorical_crossentropy', optimizer='Adam', metrics=['accuracy'])\n",
        "\n",
        "  logdir = os.path.join(\"logs\",datetime.datetime.now().strftime(\"%Y%m%d-%H%M%S\"))\n",
        "  tenserboard_callback = tf.keras.callbacks.TensorBoard(logdir,histogram_freq=1)\n",
        "\n",
        "  model.fit(\n",
        "      X_train, \n",
        "      y_train,\n",
        "      batch_size=params_fit.get('batch_size',128),\n",
        "      epochs=params_fit.get('epochs',5),\n",
        "      verbose=params_fit.get('verbose',1),\n",
        "      validation_data=params_fit.get('validation_data',(X_train,y_train)),\n",
        "      callbacks=[tenserboard_callback]\n",
        "      )\n",
        "  \n",
        "  return model"
      ],
      "execution_count": 0,
      "outputs": []
    },
    {
      "cell_type": "code",
      "metadata": {
        "id": "s2-2k7rbza1M",
        "colab_type": "code",
        "outputId": "748d57d8-446b-4613-d56b-df9489212cb0",
        "colab": {
          "base_uri": "https://localhost:8080/",
          "height": 187
        }
      },
      "source": [
        "model = get_cnn_v1(input_shape,num_classes)\n",
        "model_trained = train_model(model,X_train,y_train)"
      ],
      "execution_count": 18,
      "outputs": [
        {
          "output_type": "stream",
          "text": [
            "Epoch 1/5\n",
            "272/272 [==============================] - 5s 18ms/step - loss: 24.9269 - accuracy: 0.7543 - val_loss: 0.2420 - val_accuracy: 0.9395\n",
            "Epoch 2/5\n",
            "272/272 [==============================] - 5s 17ms/step - loss: 0.2151 - accuracy: 0.9507 - val_loss: 0.1902 - val_accuracy: 0.9595\n",
            "Epoch 3/5\n",
            "272/272 [==============================] - 5s 17ms/step - loss: 0.1307 - accuracy: 0.9690 - val_loss: 0.1080 - val_accuracy: 0.9765\n",
            "Epoch 4/5\n",
            "272/272 [==============================] - 4s 16ms/step - loss: 0.0966 - accuracy: 0.9766 - val_loss: 0.0831 - val_accuracy: 0.9829\n",
            "Epoch 5/5\n",
            "272/272 [==============================] - 4s 17ms/step - loss: 0.0913 - accuracy: 0.9789 - val_loss: 0.0863 - val_accuracy: 0.9844\n"
          ],
          "name": "stdout"
        }
      ]
    },
    {
      "cell_type": "code",
      "metadata": {
        "id": "e6t6_qY0W1su",
        "colab_type": "code",
        "colab": {
          "base_uri": "https://localhost:8080/",
          "height": 238
        },
        "outputId": "438c7761-fbe7-40bb-9329-18af1121c5f1"
      },
      "source": [
        "y_pred_probe = model_trained.predict(X_test)\n",
        "y_pred_probe"
      ],
      "execution_count": 19,
      "outputs": [
        {
          "output_type": "execute_result",
          "data": {
            "text/plain": [
              "array([[1.64856227e-14, 1.16035005e-06, 1.84600594e-05, ...,\n",
              "        1.13330689e-05, 2.27634236e-03, 5.65997216e-05],\n",
              "       [1.98961355e-12, 3.43243272e-07, 2.04985656e-04, ...,\n",
              "        9.99638723e-05, 2.27905421e-05, 3.40551173e-06],\n",
              "       [1.15492000e-15, 6.61130116e-07, 1.13088390e-06, ...,\n",
              "        3.97793337e-06, 1.87907775e-03, 1.73723656e-05],\n",
              "       ...,\n",
              "       [2.60779029e-03, 9.98491235e-03, 8.31941701e-03, ...,\n",
              "        1.01488177e-02, 2.52239294e-02, 9.33305919e-03],\n",
              "       [7.19394395e-03, 7.94483349e-03, 1.62571017e-02, ...,\n",
              "        1.34810265e-02, 2.50867978e-02, 3.88124143e-03],\n",
              "       [3.57729662e-03, 7.18458882e-03, 6.66568568e-03, ...,\n",
              "        2.62969686e-03, 1.48246475e-02, 4.22661367e-04]], dtype=float32)"
            ]
          },
          "metadata": {
            "tags": []
          },
          "execution_count": 19
        }
      ]
    },
    {
      "cell_type": "code",
      "metadata": {
        "id": "7ifJYjkpYO2_",
        "colab_type": "code",
        "colab": {
          "base_uri": "https://localhost:8080/",
          "height": 204
        },
        "outputId": "ae27f487-8e71-4330-f8c5-07c8df638264"
      },
      "source": [
        "y_pred_probe[400]"
      ],
      "execution_count": 20,
      "outputs": [
        {
          "output_type": "execute_result",
          "data": {
            "text/plain": [
              "array([3.2139251e-08, 9.9999940e-01, 1.1219936e-09, 5.3115182e-18,\n",
              "       6.0239989e-07, 7.1178753e-12, 9.9529045e-11, 2.1185879e-17,\n",
              "       5.3741883e-19, 3.2443315e-16, 1.6822182e-17, 3.0913662e-20,\n",
              "       3.9918949e-21, 8.6189465e-18, 6.2047666e-28, 3.1017001e-14,\n",
              "       8.0959646e-14, 7.3062448e-25, 5.1931749e-16, 1.2654480e-32,\n",
              "       4.4792626e-21, 1.9556788e-23, 9.4203331e-36, 3.0414632e-22,\n",
              "       1.7291566e-22, 3.2207625e-26, 8.3512991e-22, 0.0000000e+00,\n",
              "       1.3556816e-17, 3.9869407e-25, 3.1343966e-22, 2.6858386e-33,\n",
              "       1.5215677e-24, 8.4738498e-23, 1.6439866e-28, 4.0287519e-19,\n",
              "       9.0459372e-30, 1.8186127e-25, 1.0897040e-23, 0.0000000e+00,\n",
              "       2.7084995e-22, 9.2079190e-18, 2.0201446e-17], dtype=float32)"
            ]
          },
          "metadata": {
            "tags": []
          },
          "execution_count": 20
        }
      ]
    },
    {
      "cell_type": "code",
      "metadata": {
        "id": "zbt0S70nzjKD",
        "colab_type": "code",
        "outputId": "19b2a2ce-0e46-4235-da2d-b2a0b401c67c",
        "colab": {
          "base_uri": "https://localhost:8080/",
          "height": 283
        }
      },
      "source": [
        "plt.imshow(X_test[400])"
      ],
      "execution_count": 21,
      "outputs": [
        {
          "output_type": "execute_result",
          "data": {
            "text/plain": [
              "<matplotlib.image.AxesImage at 0x7f954033a208>"
            ]
          },
          "metadata": {
            "tags": []
          },
          "execution_count": 21
        },
        {
          "output_type": "display_data",
          "data": {
            "image/png": "[encoded data removed]",
            "text/plain": [
              "<Figure size 432x288 with 1 Axes>"
            ]
          },
          "metadata": {
            "tags": []
          }
        }
      ]
    },
    {
      "cell_type": "code",
      "metadata": {
        "id": "R9k-EjZpYmNw",
        "colab_type": "code",
        "colab": {}
      },
      "source": [
        "df = pd.read_csv('data/signnames.csv')\n",
        "labels_dict = df.to_dict()['b']"
      ],
      "execution_count": 0,
      "outputs": []
    },
    {
      "cell_type": "code",
      "metadata": {
        "id": "YOyNIiZbZQ-J",
        "colab_type": "code",
        "colab": {
          "base_uri": "https://localhost:8080/",
          "height": 34
        },
        "outputId": "ccf084c1-9775-46b3-b245-648bc2c3885f"
      },
      "source": [
        "np.argmax(y_pred_probe[400])"
      ],
      "execution_count": 23,
      "outputs": [
        {
          "output_type": "execute_result",
          "data": {
            "text/plain": [
              "1"
            ]
          },
          "metadata": {
            "tags": []
          },
          "execution_count": 23
        }
      ]
    },
    {
      "cell_type": "code",
      "metadata": {
        "id": "7OQsd5e6Zuib",
        "colab_type": "code",
        "colab": {
          "base_uri": "https://localhost:8080/",
          "height": 34
        },
        "outputId": "3ebd8142-279e-4430-b3c6-6246f59c8c03"
      },
      "source": [
        "labels_dict [np.argmax(y_pred_probe[400])]"
      ],
      "execution_count": 24,
      "outputs": [
        {
          "output_type": "execute_result",
          "data": {
            "text/plain": [
              "'Speed limit (30km/h)'"
            ]
          },
          "metadata": {
            "tags": []
          },
          "execution_count": 24
        }
      ]
    },
    {
      "cell_type": "code",
      "metadata": {
        "id": "iqvaQsdL3aJE",
        "colab_type": "code",
        "colab": {}
      },
      "source": [
        "def predict(model_trained,X_test,y_test,scoring=accuracy_score):\n",
        "\n",
        "  y_test_norm = np.argmax(y_test,axis=1)\n",
        "  y_pred_prob = model_trained.predict(X_test)\n",
        "  y_pred=np.argmax(y_pred_prob,axis=1)\n",
        "  return scoring(y_test_norm,y_pred)\n",
        "\n"
      ],
      "execution_count": 0,
      "outputs": []
    },
    {
      "cell_type": "code",
      "metadata": {
        "id": "Xom3dNIK6DAc",
        "colab_type": "code",
        "outputId": "dba0af33-4efe-48e9-a0c3-67282f82c8fc",
        "colab": {
          "base_uri": "https://localhost:8080/",
          "height": 34
        }
      },
      "source": [
        "predict(model_trained,X_test,y_test)"
      ],
      "execution_count": 28,
      "outputs": [
        {
          "output_type": "execute_result",
          "data": {
            "text/plain": [
              "0.8448979591836735"
            ]
          },
          "metadata": {
            "tags": []
          },
          "execution_count": 28
        }
      ]
    },
    {
      "cell_type": "code",
      "metadata": {
        "id": "0RsZ3l_B6Xhd",
        "colab_type": "code",
        "colab": {}
      },
      "source": [
        "def train_and_predict(model):\n",
        "  model_trained = train_model(model,X_train,y_train)\n",
        "  return predict(model_trained,X_test,y_test)\n",
        "\n",
        "def get_cnn_v2(input_shape,num_classes):\n",
        "  return Sequential([\n",
        "                     Conv2D(filters=32, kernel_size=(3,3), activation='relu', input_shape=input_shape),\n",
        "                     MaxPool2D(),\n",
        "                     Dropout(0.3),\n",
        "\n",
        "                     Conv2D(filters=64, kernel_size=(3,3), activation='relu'),\n",
        "                     MaxPool2D(),\n",
        "                     Dropout(0.3),\n",
        "\n",
        "                     Flatten(),\n",
        "\n",
        "                     Dense(1024, activation='relu'),\n",
        "                     Dropout(0.3),\n",
        "\n",
        "                     Dense(num_classes, activation='softmax'),\n",
        "  ])"
      ],
      "execution_count": 0,
      "outputs": []
    },
    {
      "cell_type": "code",
      "metadata": {
        "id": "5fZdHeuj61tZ",
        "colab_type": "code",
        "colab": {
          "base_uri": "https://localhost:8080/",
          "height": 204
        },
        "outputId": "1b5995bc-5c2f-43d9-e32f-b500b4b6012e"
      },
      "source": [
        "train_and_predict(get_cnn_v2(input_shape,num_classes))"
      ],
      "execution_count": 61,
      "outputs": [
        {
          "output_type": "stream",
          "text": [
            "Epoch 1/5\n",
            "272/272 [==============================] - 4s 14ms/step - loss: 5.5570 - accuracy: 0.2805 - val_loss: 1.2851 - val_accuracy: 0.6662\n",
            "Epoch 2/5\n",
            "272/272 [==============================] - 4s 14ms/step - loss: 1.3521 - accuracy: 0.6030 - val_loss: 0.6519 - val_accuracy: 0.8438\n",
            "Epoch 3/5\n",
            "272/272 [==============================] - 4s 13ms/step - loss: 0.7516 - accuracy: 0.7752 - val_loss: 0.2275 - val_accuracy: 0.9521\n",
            "Epoch 4/5\n",
            "272/272 [==============================] - 4s 13ms/step - loss: 0.4345 - accuracy: 0.8705 - val_loss: 0.1126 - val_accuracy: 0.9761\n",
            "Epoch 5/5\n",
            "272/272 [==============================] - 4s 13ms/step - loss: 0.3030 - accuracy: 0.9135 - val_loss: 0.0631 - val_accuracy: 0.9893\n"
          ],
          "name": "stdout"
        },
        {
          "output_type": "execute_result",
          "data": {
            "text/plain": [
              "0.9301587301587302"
            ]
          },
          "metadata": {
            "tags": []
          },
          "execution_count": 61
        }
      ]
    },
    {
      "cell_type": "code",
      "metadata": {
        "id": "6OD6OX4rspSj",
        "colab_type": "code",
        "colab": {
          "base_uri": "https://localhost:8080/",
          "height": 204
        },
        "outputId": "8becb4a3-51f7-4cd9-9422-c181b0a27938"
      },
      "source": [
        "def train_and_predict(model):\n",
        "  model_trained = train_model(model,X_train,y_train)\n",
        "  return predict(model_trained,X_test,y_test)\n",
        "\n",
        "def get_cnn_v3(input_shape,num_classes):\n",
        "  return Sequential([\n",
        "                     Conv2D(filters=32, kernel_size=(3,3), activation='relu', input_shape=input_shape),\n",
        "                     Conv2D(filters=32, kernel_size=(3,3), activation='relu'),\n",
        "                     MaxPool2D(),\n",
        "                     Dropout(0.3),\n",
        "\n",
        "                     Conv2D(filters=64, kernel_size=(3,3), activation='relu'),\n",
        "                     Conv2D(filters=64, kernel_size=(3,3), activation='relu'),\n",
        "                     MaxPool2D(),\n",
        "                     Dropout(0.3),\n",
        "\n",
        "                     Flatten(),\n",
        "\n",
        "                     Dense(1024, activation='relu'),\n",
        "                     Dropout(0.3),\n",
        "\n",
        "                     Dense(num_classes, activation='softmax'),\n",
        "  ])\n",
        "\n",
        "train_and_predict(get_cnn_v3(input_shape,num_classes))"
      ],
      "execution_count": 62,
      "outputs": [
        {
          "output_type": "stream",
          "text": [
            "Epoch 1/5\n",
            "272/272 [==============================] - 5s 20ms/step - loss: 2.2028 - accuracy: 0.5485 - val_loss: 0.3058 - val_accuracy: 0.9365\n",
            "Epoch 2/5\n",
            "272/272 [==============================] - 5s 19ms/step - loss: 0.4474 - accuracy: 0.8730 - val_loss: 0.0891 - val_accuracy: 0.9827\n",
            "Epoch 3/5\n",
            "272/272 [==============================] - 5s 19ms/step - loss: 0.2510 - accuracy: 0.9290 - val_loss: 0.0495 - val_accuracy: 0.9890\n",
            "Epoch 4/5\n",
            "272/272 [==============================] - 5s 19ms/step - loss: 0.1700 - accuracy: 0.9506 - val_loss: 0.0334 - val_accuracy: 0.9929\n",
            "Epoch 5/5\n",
            "272/272 [==============================] - 5s 19ms/step - loss: 0.1215 - accuracy: 0.9653 - val_loss: 0.0172 - val_accuracy: 0.9961\n"
          ],
          "name": "stdout"
        },
        {
          "output_type": "execute_result",
          "data": {
            "text/plain": [
              "0.9662131519274376"
            ]
          },
          "metadata": {
            "tags": []
          },
          "execution_count": 62
        }
      ]
    },
    {
      "cell_type": "code",
      "metadata": {
        "id": "9vCt2JCmvu3g",
        "colab_type": "code",
        "colab": {
          "base_uri": "https://localhost:8080/",
          "height": 204
        },
        "outputId": "2a85bbd5-59a4-481d-f337-c00ae4411eb7"
      },
      "source": [
        "def train_and_predict(model):\n",
        "  model_trained = train_model(model,X_train,y_train)\n",
        "  return predict(model_trained,X_test,y_test)\n",
        "\n",
        "def get_cnn_v4(input_shape,num_classes):\n",
        "  return Sequential([\n",
        "                     Conv2D(filters=32, kernel_size=(3,3), activation='relu', input_shape=input_shape),\n",
        "                     Conv2D(filters=32, kernel_size=(3,3), activation='relu', padding='same'),\n",
        "                     MaxPool2D(),\n",
        "                     Dropout(0.3),\n",
        "\n",
        "                     Conv2D(filters=64, kernel_size=(3,3), activation='relu', padding='same'),\n",
        "                     Conv2D(filters=64, kernel_size=(3,3), activation='relu'),\n",
        "                     MaxPool2D(),\n",
        "                     Dropout(0.3),\n",
        "\n",
        "                     Conv2D(filters=64, kernel_size=(3,3), activation='relu', padding='same'),\n",
        "                     Conv2D(filters=64, kernel_size=(3,3), activation='relu'),\n",
        "                     MaxPool2D(),\n",
        "                     Dropout(0.3),\n",
        "\n",
        "                     Flatten(),\n",
        "\n",
        "                     Dense(1024, activation='relu'),\n",
        "                     Dropout(0.3),\n",
        "\n",
        "                     Dense(num_classes, activation='softmax'),\n",
        "  ])\n",
        "\n",
        "train_and_predict(get_cnn_v4(input_shape,num_classes))"
      ],
      "execution_count": 63,
      "outputs": [
        {
          "output_type": "stream",
          "text": [
            "Epoch 1/5\n",
            "272/272 [==============================] - 6s 23ms/step - loss: 2.4551 - accuracy: 0.3362 - val_loss: 1.0408 - val_accuracy: 0.6758\n",
            "Epoch 2/5\n",
            "272/272 [==============================] - 6s 21ms/step - loss: 0.9209 - accuracy: 0.7145 - val_loss: 0.2403 - val_accuracy: 0.9378\n",
            "Epoch 3/5\n",
            "272/272 [==============================] - 6s 22ms/step - loss: 0.4149 - accuracy: 0.8736 - val_loss: 0.0956 - val_accuracy: 0.9731\n",
            "Epoch 4/5\n",
            "272/272 [==============================] - 6s 22ms/step - loss: 0.2662 - accuracy: 0.9187 - val_loss: 0.0593 - val_accuracy: 0.9825\n",
            "Epoch 5/5\n",
            "272/272 [==============================] - 6s 22ms/step - loss: 0.2029 - accuracy: 0.9382 - val_loss: 0.0378 - val_accuracy: 0.9900\n"
          ],
          "name": "stdout"
        },
        {
          "output_type": "execute_result",
          "data": {
            "text/plain": [
              "0.9664399092970521"
            ]
          },
          "metadata": {
            "tags": []
          },
          "execution_count": 63
        }
      ]
    },
    {
      "cell_type": "code",
      "metadata": {
        "id": "vDepINO7wsZt",
        "colab_type": "code",
        "colab": {
          "base_uri": "https://localhost:8080/",
          "height": 204
        },
        "outputId": "6ac985f8-8cb1-450e-a9c9-611d7e56dba3"
      },
      "source": [
        "def train_and_predict(model):\n",
        "  model_trained = train_model(model,X_train,y_train)\n",
        "  return predict(model_trained,X_test,y_test)\n",
        "\n",
        "def get_cnn_v5(input_shape,num_classes):\n",
        "  return Sequential([\n",
        "                     Conv2D(filters=32, kernel_size=(3,3), activation='relu', input_shape=input_shape),\n",
        "                     Conv2D(filters=32, kernel_size=(3,3), activation='relu', padding='same'),\n",
        "                     MaxPool2D(),\n",
        "                     Dropout(0.3),\n",
        "\n",
        "                     Conv2D(filters=64, kernel_size=(3,3), activation='relu', padding='same'),\n",
        "                     Conv2D(filters=64, kernel_size=(3,3), activation='relu'),\n",
        "                     MaxPool2D(),\n",
        "                     Dropout(0.3),\n",
        "\n",
        "                     Conv2D(filters=64, kernel_size=(3,3), activation='relu', padding='same'),\n",
        "                     Conv2D(filters=64, kernel_size=(3,3), activation='relu'),\n",
        "                     MaxPool2D(),\n",
        "                     Dropout(0.3),\n",
        "\n",
        "                     Flatten(),\n",
        "\n",
        "                     Dense(1024, activation='relu'),\n",
        "                     Dropout(0.3),\n",
        "\n",
        "                     Dense(1024, activation='relu'),\n",
        "                     Dropout(0.3),\n",
        "\n",
        "                     Dense(num_classes, activation='softmax'),\n",
        "  ])\n",
        "\n",
        "train_and_predict(get_cnn_v5(input_shape,num_classes))"
      ],
      "execution_count": 64,
      "outputs": [
        {
          "output_type": "stream",
          "text": [
            "Epoch 1/5\n",
            "272/272 [==============================] - 6s 23ms/step - loss: 2.6112 - accuracy: 0.2850 - val_loss: 0.9708 - val_accuracy: 0.6771\n",
            "Epoch 2/5\n",
            "272/272 [==============================] - 6s 22ms/step - loss: 0.9038 - accuracy: 0.7130 - val_loss: 0.3394 - val_accuracy: 0.8854\n",
            "Epoch 3/5\n",
            "272/272 [==============================] - 6s 22ms/step - loss: 0.4696 - accuracy: 0.8503 - val_loss: 0.1394 - val_accuracy: 0.9537\n",
            "Epoch 4/5\n",
            "272/272 [==============================] - 6s 22ms/step - loss: 0.3089 - accuracy: 0.9033 - val_loss: 0.1044 - val_accuracy: 0.9657\n",
            "Epoch 5/5\n",
            "272/272 [==============================] - 6s 22ms/step - loss: 0.2341 - accuracy: 0.9295 - val_loss: 0.0504 - val_accuracy: 0.9862\n"
          ],
          "name": "stdout"
        },
        {
          "output_type": "execute_result",
          "data": {
            "text/plain": [
              "0.9643990929705215"
            ]
          },
          "metadata": {
            "tags": []
          },
          "execution_count": 64
        }
      ]
    },
    {
      "cell_type": "code",
      "metadata": {
        "id": "qIkAfQvbxIef",
        "colab_type": "code",
        "colab": {
          "base_uri": "https://localhost:8080/",
          "height": 283
        },
        "outputId": "829ea771-9c80-4a12-82fb-3d13f6461abb"
      },
      "source": [
        "plt.imshow(color.rgb2gray(X_train[0]),cmap=plt.get_cmap('gray'))"
      ],
      "execution_count": 65,
      "outputs": [
        {
          "output_type": "execute_result",
          "data": {
            "text/plain": [
              "<matplotlib.image.AxesImage at 0x7f94ee2ccd30>"
            ]
          },
          "metadata": {
            "tags": []
          },
          "execution_count": 65
        },
        {
          "output_type": "display_data",
          "data": {
            "image/png": "[encoded data removed]",
            "text/plain": [
              "<Figure size 432x288 with 1 Axes>"
            ]
          },
          "metadata": {
            "tags": []
          }
        }
      ]
    },
    {
      "cell_type": "code",
      "metadata": {
        "id": "sykLOtdyx-ZE",
        "colab_type": "code",
        "colab": {}
      },
      "source": [
        "X_train_gray = color.rgb2gray(X_train).reshape(-1,32,32,1)\n",
        "X_test_gray = color.rgb2gray(X_test).reshape(-1,32,32,1)"
      ],
      "execution_count": 0,
      "outputs": []
    },
    {
      "cell_type": "code",
      "metadata": {
        "id": "h9jMHczj0PST",
        "colab_type": "code",
        "colab": {}
      },
      "source": [
        ""
      ],
      "execution_count": 0,
      "outputs": []
    },
    {
      "cell_type": "code",
      "metadata": {
        "id": "d33S1B-nyPKK",
        "colab_type": "code",
        "colab": {
          "base_uri": "https://localhost:8080/",
          "height": 204
        },
        "outputId": "6efa4f73-febf-46c5-e01b-976d6e1f0f84"
      },
      "source": [
        "model = get_cnn_v5((32,32,1),num_classes)\n",
        "model_trained = train_model(model,X_train_gray,y_train,params_fit={})\n",
        "predict(model_trained,X_test_gray,y_test)"
      ],
      "execution_count": 75,
      "outputs": [
        {
          "output_type": "stream",
          "text": [
            "Epoch 1/5\n",
            "272/272 [==============================] - 6s 23ms/step - loss: 2.8171 - accuracy: 0.2179 - val_loss: 0.8560 - val_accuracy: 0.7386\n",
            "Epoch 2/5\n",
            "272/272 [==============================] - 6s 22ms/step - loss: 0.5879 - accuracy: 0.8093 - val_loss: 0.1172 - val_accuracy: 0.9666\n",
            "Epoch 3/5\n",
            "272/272 [==============================] - 6s 22ms/step - loss: 0.2392 - accuracy: 0.9248 - val_loss: 0.0714 - val_accuracy: 0.9785\n",
            "Epoch 4/5\n",
            "272/272 [==============================] - 6s 22ms/step - loss: 0.1529 - accuracy: 0.9524 - val_loss: 0.0319 - val_accuracy: 0.9917\n",
            "Epoch 5/5\n",
            "272/272 [==============================] - 6s 22ms/step - loss: 0.1157 - accuracy: 0.9631 - val_loss: 0.0298 - val_accuracy: 0.9905\n"
          ],
          "name": "stdout"
        },
        {
          "output_type": "execute_result",
          "data": {
            "text/plain": [
              "0.9673469387755103"
            ]
          },
          "metadata": {
            "tags": []
          },
          "execution_count": 75
        }
      ]
    },
    {
      "cell_type": "code",
      "metadata": {
        "id": "bsuFjQXU0Dtx",
        "colab_type": "code",
        "colab": {
          "base_uri": "https://localhost:8080/",
          "height": 283
        },
        "outputId": "a263ef2d-1bbd-4635-cf5a-2652870422eb"
      },
      "source": [
        "plt.imshow(color.rgb2gray(X_train[0]),cmap=plt.get_cmap('gray'))"
      ],
      "execution_count": 76,
      "outputs": [
        {
          "output_type": "execute_result",
          "data": {
            "text/plain": [
              "<matplotlib.image.AxesImage at 0x7f951e190f60>"
            ]
          },
          "metadata": {
            "tags": []
          },
          "execution_count": 76
        },
        {
          "output_type": "display_data",
          "data": {
            "image/png": "[encoded data removed]",
            "text/plain": [
              "<Figure size 432x288 with 1 Axes>"
            ]
          },
          "metadata": {
            "tags": []
          }
        }
      ]
    }
  ]
}