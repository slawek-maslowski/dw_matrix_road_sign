{
  "nbformat": 4,
  "nbformat_minor": 0,
  "metadata": {
    "colab": {
      "name": "day5.ipynb",
      "provenance": [],
      "collapsed_sections": [],
      "mount_file_id": "1qmygluzse92Dnkt8HR6ddzf-rbModwX3",
      "authorship_tag": "ABX9TyMlSNDPkoPep0pxrNu+DZAq",
      "include_colab_link": true
    },
    "kernelspec": {
      "name": "python3",
      "display_name": "Python 3"
    },
    "accelerator": "GPU"
  },
  "cells": [
    {
      "cell_type": "markdown",
      "metadata": {
        "id": "view-in-github",
        "colab_type": "text"
      },
      "source": [
        "<a href=\"https://colab.research.google.com/github/slawek-programmer/dw_matrix_road_sign/blob/master/day5.ipynb\" target=\"_parent\"><img src=\"https://colab.research.google.com/assets/colab-badge.svg\" alt=\"Open In Colab\"/></a>"
      ]
    },
    {
      "cell_type": "code",
      "metadata": {
        "id": "UfSqt_jfewL-",
        "colab_type": "code",
        "colab": {
          "base_uri": "https://localhost:8080/",
          "height": 170
        },
        "outputId": "a0077d37-1222-4c7a-d23e-61cfafca0e1a"
      },
      "source": [
        "!pip install hyperopt"
      ],
      "execution_count": 1,
      "outputs": [
        {
          "output_type": "stream",
          "text": [
            "Requirement already satisfied: hyperopt in /usr/local/lib/python3.6/dist-packages (0.1.2)\n",
            "Requirement already satisfied: networkx in /usr/local/lib/python3.6/dist-packages (from hyperopt) (2.4)\n",
            "Requirement already satisfied: pymongo in /usr/local/lib/python3.6/dist-packages (from hyperopt) (3.10.1)\n",
            "Requirement already satisfied: future in /usr/local/lib/python3.6/dist-packages (from hyperopt) (0.16.0)\n",
            "Requirement already satisfied: numpy in /usr/local/lib/python3.6/dist-packages (from hyperopt) (1.18.2)\n",
            "Requirement already satisfied: scipy in /usr/local/lib/python3.6/dist-packages (from hyperopt) (1.4.1)\n",
            "Requirement already satisfied: tqdm in /usr/local/lib/python3.6/dist-packages (from hyperopt) (4.38.0)\n",
            "Requirement already satisfied: six in /usr/local/lib/python3.6/dist-packages (from hyperopt) (1.12.0)\n",
            "Requirement already satisfied: decorator>=4.3.0 in /usr/local/lib/python3.6/dist-packages (from networkx->hyperopt) (4.4.2)\n"
          ],
          "name": "stdout"
        }
      ]
    },
    {
      "cell_type": "code",
      "metadata": {
        "id": "J6hG2tZme9ao",
        "colab_type": "code",
        "colab": {
          "base_uri": "https://localhost:8080/",
          "height": 51
        },
        "outputId": "8f19e730-c660-41ec-cc53-5d0be1b463f0"
      },
      "source": [
        "import pandas as pd\n",
        "import numpy as np\n",
        "\n",
        "import tensorflow as tf\n",
        "from tensorflow.keras.models import Sequential\n",
        "from tensorflow.keras.layers import Conv2D, MaxPool2D, Dense, Flatten, Dropout\n",
        "from tensorflow.keras.utils import to_categorical\n",
        "\n",
        "import os\n",
        "import datetime\n",
        "\n",
        "%load_ext tensorboard\n",
        "\n",
        "import matplotlib.pyplot as plt\n",
        "from skimage import color,exposure\n",
        "\n",
        "from sklearn.metrics import accuracy_score\n",
        "\n",
        "from hyperopt import hp, STATUS_OK, tpe, Trials, fmin"
      ],
      "execution_count": 16,
      "outputs": [
        {
          "output_type": "stream",
          "text": [
            "The tensorboard extension is already loaded. To reload it, use:\n",
            "  %reload_ext tensorboard\n"
          ],
          "name": "stdout"
        }
      ]
    },
    {
      "cell_type": "code",
      "metadata": {
        "id": "2gq5yArWf4sp",
        "colab_type": "code",
        "colab": {
          "base_uri": "https://localhost:8080/",
          "height": 34
        },
        "outputId": "a71bf2dd-ffbb-4916-b353-27ec16efd077"
      },
      "source": [
        "cd '/content/drive/My Drive/Colab Notebooks/dw_matrix/matrix_three/dw_matrix_road_sign'"
      ],
      "execution_count": 4,
      "outputs": [
        {
          "output_type": "stream",
          "text": [
            "/content/drive/My Drive/Colab Notebooks/dw_matrix/matrix_three/dw_matrix_road_sign\n"
          ],
          "name": "stdout"
        }
      ]
    },
    {
      "cell_type": "code",
      "metadata": {
        "id": "ri6jbWEgf5UL",
        "colab_type": "code",
        "colab": {}
      },
      "source": [
        "train = pd.read_pickle('data/train.p')\n",
        "test = pd.read_pickle('data/test.p')\n",
        "\n",
        "X_train, y_train = train['features'], train['labels']\n",
        "X_test, y_test = test['features'], test['labels']"
      ],
      "execution_count": 0,
      "outputs": []
    },
    {
      "cell_type": "code",
      "metadata": {
        "id": "7H48ApnXf9S9",
        "colab_type": "code",
        "colab": {}
      },
      "source": [
        "if y_train.ndim==1: y_train = to_categorical(y_train)\n",
        "if y_test.ndim==1: y_test = to_categorical(y_test)"
      ],
      "execution_count": 0,
      "outputs": []
    },
    {
      "cell_type": "code",
      "metadata": {
        "id": "_BJewTicgG9o",
        "colab_type": "code",
        "colab": {}
      },
      "source": [
        "input_shape = X_train.shape[1:]\n",
        "num_classes = y_train.shape[1]"
      ],
      "execution_count": 0,
      "outputs": []
    },
    {
      "cell_type": "code",
      "metadata": {
        "id": "XIt3Jc0DgHjh",
        "colab_type": "code",
        "colab": {}
      },
      "source": [
        "def train_model(model,X_train,y_train,params_fit={}):\n",
        "  model.compile(loss='categorical_crossentropy', optimizer='Adam', metrics=['accuracy'])\n",
        "\n",
        "  logdir = os.path.join(\"logs\",datetime.datetime.now().strftime(\"%Y%m%d-%H%M%S\"))\n",
        "  tenserboard_callback = tf.keras.callbacks.TensorBoard(logdir,histogram_freq=1)\n",
        "\n",
        "  model.fit(\n",
        "      X_train, \n",
        "      y_train,\n",
        "      batch_size=params_fit.get('batch_size',128),\n",
        "      epochs=params_fit.get('epochs',5),\n",
        "      verbose=params_fit.get('verbose',1),\n",
        "      validation_data=params_fit.get('validation_data',(X_train,y_train)),\n",
        "      callbacks=[tenserboard_callback]\n",
        "      )\n",
        "  \n",
        "  return model"
      ],
      "execution_count": 0,
      "outputs": []
    },
    {
      "cell_type": "code",
      "metadata": {
        "id": "1R2crgJtgN8X",
        "colab_type": "code",
        "colab": {}
      },
      "source": [
        "def predict(model_trained,X_test,y_test,scoring=accuracy_score):\n",
        "\n",
        "  y_test_norm = np.argmax(y_test,axis=1)\n",
        "  y_pred_prob = model_trained.predict(X_test)\n",
        "  y_pred=np.argmax(y_pred_prob,axis=1)\n",
        "  return scoring(y_test_norm,y_pred)"
      ],
      "execution_count": 0,
      "outputs": []
    },
    {
      "cell_type": "code",
      "metadata": {
        "id": "PQUb5tSag61h",
        "colab_type": "code",
        "colab": {}
      },
      "source": [
        "def train_and_predict(model):\n",
        "  model_trained = train_model(model,X_train,y_train)\n",
        "  return predict(model_trained,X_test,y_test)\n",
        "\n",
        "def get_cnn_v5(input_shape,num_classes):\n",
        "  return Sequential([\n",
        "                     Conv2D(filters=32, kernel_size=(3,3), activation='relu', input_shape=input_shape),\n",
        "                     Conv2D(filters=32, kernel_size=(3,3), activation='relu', padding='same'),\n",
        "                     MaxPool2D(),\n",
        "                     Dropout(0.3),\n",
        "\n",
        "                     Conv2D(filters=64, kernel_size=(3,3), activation='relu', padding='same'),\n",
        "                     Conv2D(filters=64, kernel_size=(3,3), activation='relu'),\n",
        "                     MaxPool2D(),\n",
        "                     Dropout(0.3),\n",
        "\n",
        "                     Conv2D(filters=64, kernel_size=(3,3), activation='relu', padding='same'),\n",
        "                     Conv2D(filters=64, kernel_size=(3,3), activation='relu'),\n",
        "                     MaxPool2D(),\n",
        "                     Dropout(0.3),\n",
        "\n",
        "                     Flatten(),\n",
        "\n",
        "                     Dense(1024, activation='relu'),\n",
        "                     Dropout(0.3),\n",
        "\n",
        "                     Dense(1024, activation='relu'),\n",
        "                     Dropout(0.3),\n",
        "\n",
        "                     Dense(num_classes, activation='softmax'),\n",
        "  ])\n",
        "\n",
        "# train_and_predict(get_cnn_v5(input_shape,num_classes))"
      ],
      "execution_count": 0,
      "outputs": []
    },
    {
      "cell_type": "code",
      "metadata": {
        "id": "-NbAlMfUlOXZ",
        "colab_type": "code",
        "colab": {}
      },
      "source": [
        "def get_model(params):\n",
        "  return Sequential([\n",
        "                     Conv2D(filters=32, kernel_size=(3,3), activation='relu', input_shape=input_shape),\n",
        "                     Conv2D(filters=32, kernel_size=(3,3), activation='relu', padding='same'),\n",
        "                     Conv2D(filters=32, kernel_size=(3,3), activation='relu', padding='same'),\n",
        "                     MaxPool2D(),\n",
        "                     Dropout(params['dropout_cnn_block_one']),\n",
        "\n",
        "                     Conv2D(filters=64, kernel_size=(3,3), activation='relu', padding='same'),\n",
        "                     Conv2D(filters=64, kernel_size=(3,3), activation='relu', padding='same'),                     \n",
        "                     Conv2D(filters=64, kernel_size=(3,3), activation='relu'),\n",
        "                     MaxPool2D(),\n",
        "                     Dropout(params['dropout_cnn_block_two']),\n",
        "\n",
        "                     Conv2D(filters=128, kernel_size=(3,3), activation='relu', padding='same'),\n",
        "                     Conv2D(filters=128, kernel_size=(3,3), activation='relu', padding='same'),\n",
        "                     Conv2D(filters=128, kernel_size=(3,3), activation='relu'),\n",
        "                     MaxPool2D(),\n",
        "                     Dropout(params['dropout_cnn_block_three']),\n",
        "\n",
        "                     Flatten(),\n",
        "\n",
        "                     Dense(1024, activation='relu'),\n",
        "                     Dropout(params['dropout_dense_block_one']),\n",
        "\n",
        "                     Dense(1024, activation='relu'),\n",
        "                     Dropout(params['dropout_dense_block_two']),\n",
        "\n",
        "                     Dense(num_classes, activation='softmax'),\n",
        "  ])"
      ],
      "execution_count": 0,
      "outputs": []
    },
    {
      "cell_type": "code",
      "metadata": {
        "id": "dm0P7xg4hIAX",
        "colab_type": "code",
        "colab": {}
      },
      "source": [
        "def func_obj(params):\n",
        "  model = get_model(params)\n",
        "  model.compile(loss='categorical_crossentropy', optimizer='Adam', metrics=['accuracy'])\n",
        "\n",
        "  model.fit(\n",
        "      X_train, \n",
        "      y_train,\n",
        "      batch_size=int(params.get('batch_size',128)),\n",
        "      epochs=5,\n",
        "      verbose=0\n",
        "      )\n",
        "  \n",
        "  accuracy = model.evaluate(X_test,y_test, verbose=0)[1]\n",
        "  print(params, 'accuracy={}'.format(accuracy))\n",
        "  \n",
        "  return {'loss': -accuracy, 'status': STATUS_OK, 'model': model}"
      ],
      "execution_count": 0,
      "outputs": []
    },
    {
      "cell_type": "code",
      "metadata": {
        "id": "s7A8rLk7iuWy",
        "colab_type": "code",
        "colab": {
          "base_uri": "https://localhost:8080/",
          "height": 1000
        },
        "outputId": "67eed6d5-e18b-420a-f41b-33f710762f19"
      },
      "source": [
        "space = {\n",
        "    'batch_size': hp.quniform('batch_size', 50, 200, 10),\n",
        "    'dropout_cnn_block_one': hp.uniform('dropout_cnn_block_one', 0, 1),\n",
        "    'dropout_cnn_block_two': hp.uniform('dropout_cnn_block_two', 0, 1),\n",
        "    'dropout_cnn_block_three': hp.uniform('dropout_cnn_block_three', 0, 1),\n",
        "\n",
        "    'dropout_dense_block_one': hp.uniform('dropout_dense_block_one', 0, 1),\n",
        "    'dropout_dense_block_two': hp.uniform('dropout_dense_block_two', 0, 1),\n",
        "}\n",
        "\n",
        "best = fmin(\n",
        "    func_obj,\n",
        "    space,\n",
        "    tpe.suggest,\n",
        "    30,\n",
        "    Trials()\n",
        ")"
      ],
      "execution_count": 46,
      "outputs": [
        {
          "output_type": "stream",
          "text": [
            "{'batch_size': 90.0, 'dropout_cnn_block_one': 0.576557461073224, 'dropout_cnn_block_three': 0.9768002357477663, 'dropout_cnn_block_two': 0.44343486936885756, 'dropout_dense_block_one': 0.025753947446772285, 'dropout_dense_block_two': 0.03635783740209575}\n",
            "accuracy=0.17301587760448456\n",
            "{'batch_size': 50.0, 'dropout_cnn_block_one': 0.4605257592081694, 'dropout_cnn_block_three': 0.7852197794495811, 'dropout_cnn_block_two': 0.009020199137197427, 'dropout_dense_block_one': 0.20609734455679707, 'dropout_dense_block_two': 0.9260894332104198}\n",
            "accuracy=0.6755102276802063\n",
            "{'batch_size': 120.0, 'dropout_cnn_block_one': 0.5319624587764431, 'dropout_cnn_block_three': 0.08596100771492698, 'dropout_cnn_block_two': 0.06743570634689322, 'dropout_dense_block_one': 0.9890483344936043, 'dropout_dense_block_two': 0.6059591233238699}\n",
            "accuracy=0.2566893398761749\n",
            "{'batch_size': 150.0, 'dropout_cnn_block_one': 0.8926935135138744, 'dropout_cnn_block_three': 0.8128308307271263, 'dropout_cnn_block_two': 0.46602160538693316, 'dropout_dense_block_one': 0.5614174761753093, 'dropout_dense_block_two': 0.10443756198611565}\n",
            "accuracy=0.32811790704727173\n",
            "{'batch_size': 160.0, 'dropout_cnn_block_one': 0.5517307286450746, 'dropout_cnn_block_three': 0.7227783558886303, 'dropout_cnn_block_two': 0.9512698796851814, 'dropout_dense_block_one': 0.2964710434044656, 'dropout_dense_block_two': 0.09001166711521047}\n",
            "accuracy=0.3571428656578064\n",
            "{'batch_size': 80.0, 'dropout_cnn_block_one': 0.6021044440911176, 'dropout_cnn_block_three': 0.7898235999236792, 'dropout_cnn_block_two': 0.7967029532360048, 'dropout_dense_block_one': 0.4057848438739394, 'dropout_dense_block_two': 0.9875085477932012}\n",
            "accuracy=0.054421767592430115\n",
            "{'batch_size': 70.0, 'dropout_cnn_block_one': 0.7236047690169701, 'dropout_cnn_block_three': 0.2612035842839219, 'dropout_cnn_block_two': 0.6437207524672857, 'dropout_dense_block_one': 0.7773727480197432, 'dropout_dense_block_two': 0.29562073088440743}\n",
            "accuracy=0.7825396656990051\n",
            "{'batch_size': 120.0, 'dropout_cnn_block_one': 0.9288729596244766, 'dropout_cnn_block_three': 0.4810637785476163, 'dropout_cnn_block_two': 0.14276216992987167, 'dropout_dense_block_one': 0.9251481362493982, 'dropout_dense_block_two': 0.660900628594011}\n",
            "accuracy=0.2537415027618408\n",
            "{'batch_size': 190.0, 'dropout_cnn_block_one': 0.4473609372960845, 'dropout_cnn_block_three': 0.32561327788241334, 'dropout_cnn_block_two': 0.6078999784009453, 'dropout_dense_block_one': 0.5878903357438219, 'dropout_dense_block_two': 0.9019545912764088}\n",
            "accuracy=0.5056689381599426\n",
            "{'batch_size': 100.0, 'dropout_cnn_block_one': 0.834557637677282, 'dropout_cnn_block_three': 0.31705479595858166, 'dropout_cnn_block_two': 0.9941307141466674, 'dropout_dense_block_one': 0.300289880353805, 'dropout_dense_block_two': 0.6482214024800013}\n",
            "accuracy=0.054421767592430115\n",
            "{'batch_size': 140.0, 'dropout_cnn_block_one': 0.15502534469599571, 'dropout_cnn_block_three': 0.32983880066424676, 'dropout_cnn_block_two': 0.8227096725334375, 'dropout_dense_block_one': 0.14628406539401173, 'dropout_dense_block_two': 0.34080823012223493}\n",
            "accuracy=0.940362811088562\n",
            "{'batch_size': 160.0, 'dropout_cnn_block_one': 0.1346731902847026, 'dropout_cnn_block_three': 0.8121232356333677, 'dropout_cnn_block_two': 0.0058034046550815566, 'dropout_dense_block_one': 0.714752554036711, 'dropout_dense_block_two': 0.5207476622122782}\n",
            "accuracy=0.8138322234153748\n",
            "{'batch_size': 50.0, 'dropout_cnn_block_one': 0.1651272756044876, 'dropout_cnn_block_three': 0.6635737753592406, 'dropout_cnn_block_two': 0.01288399054845879, 'dropout_dense_block_one': 0.9899758269493419, 'dropout_dense_block_two': 0.019753054716300955}\n",
            "accuracy=0.0476190485060215\n",
            "{'batch_size': 110.0, 'dropout_cnn_block_one': 0.5509635241742178, 'dropout_cnn_block_three': 0.8712029154365722, 'dropout_cnn_block_two': 0.5124107000970826, 'dropout_dense_block_one': 0.9565063843089016, 'dropout_dense_block_two': 0.874970615037373}\n",
            "accuracy=0.06122449040412903\n",
            "{'batch_size': 120.0, 'dropout_cnn_block_one': 0.8632494252812982, 'dropout_cnn_block_three': 0.32629217198263816, 'dropout_cnn_block_two': 0.4804158370166145, 'dropout_dense_block_one': 0.4943986789093707, 'dropout_dense_block_two': 0.24161251330689382}\n",
            "accuracy=0.7503401637077332\n",
            "{'batch_size': 170.0, 'dropout_cnn_block_one': 0.1111220007385143, 'dropout_cnn_block_three': 0.09518516693025536, 'dropout_cnn_block_two': 0.7916458200091593, 'dropout_dense_block_one': 0.6057829682675956, 'dropout_dense_block_two': 0.2970308180683009}\n",
            "accuracy=0.9258503317832947\n",
            "{'batch_size': 160.0, 'dropout_cnn_block_one': 0.6736843907538306, 'dropout_cnn_block_three': 0.9514650550324255, 'dropout_cnn_block_two': 0.6103049182873498, 'dropout_dense_block_one': 0.1800559852006005, 'dropout_dense_block_two': 0.22604935820212435}\n",
            "accuracy=0.054421767592430115\n",
            "{'batch_size': 60.0, 'dropout_cnn_block_one': 0.3607978861806169, 'dropout_cnn_block_three': 0.4131648280106547, 'dropout_cnn_block_two': 0.3735419889489898, 'dropout_dense_block_one': 0.22436186995923835, 'dropout_dense_block_two': 0.6171583559883819}\n",
            "accuracy=0.962358295917511\n",
            "{'batch_size': 80.0, 'dropout_cnn_block_one': 0.5209001995731682, 'dropout_cnn_block_three': 0.5039189313805628, 'dropout_cnn_block_two': 0.8572340045928855, 'dropout_dense_block_one': 0.6461360493749798, 'dropout_dense_block_two': 0.7267942219289563}\n",
            "accuracy=0.4750566780567169\n",
            "{'batch_size': 140.0, 'dropout_cnn_block_one': 0.7082875202619519, 'dropout_cnn_block_three': 0.4932947535583915, 'dropout_cnn_block_two': 0.05994125712306164, 'dropout_dense_block_one': 0.7812507898117264, 'dropout_dense_block_two': 0.7506425036216402}\n",
            "accuracy=0.5353741645812988\n",
            "{'batch_size': 200.0, 'dropout_cnn_block_one': 0.29275333874176224, 'dropout_cnn_block_three': 0.17817521578279497, 'dropout_cnn_block_two': 0.28156760094739386, 'dropout_dense_block_one': 0.00839188718813752, 'dropout_dense_block_two': 0.4351273225850413}\n",
            "accuracy=0.9684807062149048\n",
            "{'batch_size': 190.0, 'dropout_cnn_block_one': 0.30533930371039697, 'dropout_cnn_block_three': 0.19764431176437317, 'dropout_cnn_block_two': 0.29266551248008976, 'dropout_dense_block_one': 0.0342141273332765, 'dropout_dense_block_two': 0.4231567286030278}\n",
            "accuracy=0.9673469662666321\n",
            "{'batch_size': 190.0, 'dropout_cnn_block_one': 0.27880218805460305, 'dropout_cnn_block_three': 0.008429430641699792, 'dropout_cnn_block_two': 0.2558254171429574, 'dropout_dense_block_one': 0.004678855445401777, 'dropout_dense_block_two': 0.4256010086700384}\n",
            "accuracy=0.9625850319862366\n",
            "{'batch_size': 200.0, 'dropout_cnn_block_one': 0.028057407894359843, 'dropout_cnn_block_three': 0.1750511062351295, 'dropout_cnn_block_two': 0.24644158429882546, 'dropout_dense_block_one': 0.0737338897153342, 'dropout_dense_block_two': 0.4560035944741844}\n",
            "accuracy=0.9643990993499756\n",
            "{'batch_size': 180.0, 'dropout_cnn_block_one': 0.2818543532469069, 'dropout_cnn_block_three': 0.009232562820466444, 'dropout_cnn_block_two': 0.29453964001449795, 'dropout_dense_block_one': 0.10120710742057124, 'dropout_dense_block_two': 0.5234468539675421}\n",
            "accuracy=0.9630385637283325\n",
            "{'batch_size': 200.0, 'dropout_cnn_block_one': 0.36387093339430504, 'dropout_cnn_block_three': 0.2064455182741897, 'dropout_cnn_block_two': 0.1851049395272788, 'dropout_dense_block_one': 0.0060119984415919515, 'dropout_dense_block_two': 0.3629472619724303}\n",
            "accuracy=0.9578231573104858\n",
            "{'batch_size': 180.0, 'dropout_cnn_block_one': 0.010345282459140903, 'dropout_cnn_block_three': 0.11867337992646143, 'dropout_cnn_block_two': 0.33181254068922955, 'dropout_dense_block_one': 0.4123303327414715, 'dropout_dense_block_two': 0.43297675497248345}\n",
            "accuracy=0.9743764400482178\n",
            "{'batch_size': 180.0, 'dropout_cnn_block_one': 0.014585813838041528, 'dropout_cnn_block_three': 0.07592228334281509, 'dropout_cnn_block_two': 0.3891387460510438, 'dropout_dense_block_one': 0.4775327545154714, 'dropout_dense_block_two': 0.2215107894896563}\n",
            "accuracy=0.9689342379570007\n",
            "{'batch_size': 180.0, 'dropout_cnn_block_one': 0.0363875271437102, 'dropout_cnn_block_three': 0.09564017862106367, 'dropout_cnn_block_two': 0.38851018607869325, 'dropout_dense_block_one': 0.46595177032350915, 'dropout_dense_block_two': 0.1866937281674385}\n",
            "accuracy=0.9666666388511658\n",
            "{'batch_size': 140.0, 'dropout_cnn_block_one': 0.07700554859927902, 'dropout_cnn_block_three': 0.6087480954520594, 'dropout_cnn_block_two': 0.39373216676912753, 'dropout_dense_block_one': 0.3907173967966993, 'dropout_dense_block_two': 0.11622443938177016}\n",
            "accuracy=0.9655328989028931\n",
            "100%|██████████| 30/30 [08:07<00:00, 16.26s/it, best loss: -0.9743764400482178]\n"
          ],
          "name": "stdout"
        }
      ]
    },
    {
      "cell_type": "code",
      "metadata": {
        "id": "4RJwTutxj4hX",
        "colab_type": "code",
        "colab": {}
      },
      "source": [
        " "
      ],
      "execution_count": 0,
      "outputs": []
    }
  ]
}